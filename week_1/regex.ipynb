{
 "cells": [
  {
   "cell_type": "markdown",
   "metadata": {},
   "source": [
    "#Why use regex\n",
    "regex can be used three main reasons.\n",
    "1. to check whether data exist or not\n",
    "2. to get data from complex pattern from source data\n",
    "3. cleaning data from source data using splitting string"
   ]
  },
  {
   "cell_type": "code",
   "execution_count": 16,
   "metadata": {},
   "outputs": [
    {
     "name": "stdout",
     "output_type": "stream",
     "text": [
      "<re.Match object; span=(0, 2), match='It'>\n",
      "<re.Match object; span=(8, 12), match='good'>\n"
     ]
    }
   ],
   "source": [
    "import re\n",
    "\n",
    "some_text = \"It is a good day for everyone\"\n",
    "\n",
    "print(re.match('It',some_text))\n",
    "print(re.search('good',some_text))"
   ]
  },
  {
   "cell_type": "markdown",
   "metadata": {},
   "source": [
    "Splitting Function"
   ]
  },
  {
   "cell_type": "code",
   "execution_count": 35,
   "metadata": {},
   "outputs": [
    {
     "name": "stdout",
     "output_type": "stream",
     "text": [
      "['', 'works diligently. ', 'gets good grades. Our student ', 'is succesful.']\n",
      "['Amy', 'Amy', 'Amy']\n",
      "<re.Match object; span=(0, 3), match='Amy'>\n"
     ]
    }
   ],
   "source": [
    "text = \"Amy works diligently. Amy gets good grades. Our student Amy is succesful.\"\n",
    "\n",
    "print(re.split(\"Amy \",text))\n",
    "print(re.findall(\"Amy\",text))\n",
    "\n",
    "# ^ is the begining of text and $ is the ending of text\n",
    "print(re.search(\"^Amy\",text))"
   ]
  },
  {
   "cell_type": "markdown",
   "metadata": {},
   "source": [
    "#Pattern and charactor class"
   ]
  },
  {
   "cell_type": "code",
   "execution_count": 51,
   "metadata": {},
   "outputs": [
    {
     "data": {
      "text/plain": [
       "[]"
      ]
     },
     "execution_count": 51,
     "metadata": {},
     "output_type": "execute_result"
    }
   ],
   "source": [
    "grades=\"ACAAAABCBCBAA\"\n",
    "\n",
    "# If we wanted to count the number of A's or B's in the list, we can't use \"AB\" since this is used to match\n",
    "# all A's followed immediately by a B. Instead, we put the characters A and B inside square brackets\n",
    "re.findall(\"[AB]\",grades)\n",
    "\n",
    "# This is called the set operator. You can also include a range of characters, which are ordered\n",
    "# alphanumerically. For instance, if we want to refer to all lower case letters we could use [a-z] Lets build\n",
    "# a simple regex to parse out all instances where this student receive an A followed by a B or a C\n",
    "re.findall(\"[A][B-C]\",grades)\n",
    "\n",
    "# We can use the caret with the set operator to negate our results. For instance, if we want to parse out only\n",
    "# the grades which were not A's\n",
    "re.findall(\"[^A]\",grades)\n",
    "\n",
    "# Note this carefully - the caret was previously matched to the beginning of a string as an anchor point, but\n",
    "# inside of the set operator the caret, and the other special characters we will be talking about, lose their\n",
    "# meaning. This can be a bit confusing. What do you think the result would be of this?\n",
    "re.findall(\"^[^A]\",grades)"
   ]
  },
  {
   "cell_type": "markdown",
   "metadata": {},
   "source": [
    "#Quantifier"
   ]
  },
  {
   "cell_type": "code",
   "execution_count": 53,
   "metadata": {},
   "outputs": [
    {
     "data": {
      "text/plain": [
       "[]"
      ]
     },
     "execution_count": 53,
     "metadata": {},
     "output_type": "execute_result"
    }
   ],
   "source": [
    "# Quantifiers are the number of times you want a pattern to be matched in order to match. The most basic\n",
    "# quantifier is expressed as e{m,n}, where e is the expression or character we are matching, m is the minimum\n",
    "# number of times you want it to matched, and n is the maximum number of times the item could be matched.\n",
    "\n",
    "# Let's use these grades as an example. How many times has this student been on a back-to-back A's streak?\n",
    "re.findall(\"A{2,10}\",grades) # we'll use 2 as our min, but ten as our max\n",
    "\n",
    "# It's important to note that the regex quantifier syntax does not allow you to deviate from the {m,n}\n",
    "# pattern. In particular, if you have an extra space in between the braces you'll get an empty result\n",
    "re.findall(\"A{2, 2}\",grades)\n",
    "\n",
    "# Oh, and if you just have one number in the braces, it's considered to be both m and n\n",
    "re.findall(\"A{2}\",grades)"
   ]
  },
  {
   "cell_type": "code",
   "execution_count": 37,
   "metadata": {},
   "outputs": [
    {
     "data": {
      "text/plain": [
       "['Overview[edit]',\n",
       " 'Access to public records[edit]',\n",
       " 'Student medical records[edit]']"
      ]
     },
     "execution_count": 37,
     "metadata": {},
     "output_type": "execute_result"
    }
   ],
   "source": [
    "#There are three other quantifiers that are used as short hand, an asterix * to match 0 or more times, \n",
    "#a question mark ? to match one or more times, or a + plus sign to match one or more times. Lets look \n",
    "#at a more complex example, and load some data scraped from wikipedia\n",
    "import re\n",
    "with open(\"resource/ferpa.txt\",\"r\") as file:\n",
    "    # we'll read that into a variable called wiki\n",
    "    wiki=file.read()\n",
    "# and lets print that variable out to the screen\n",
    "\n",
    "\n",
    "#Now let's find title of the wikipedia content. Each content ends with [edit] so let's implement this.\n",
    "re.findall(\"[\\\\w ]*\\\\[edit]\",wiki)"
   ]
  },
  {
   "cell_type": "markdown",
   "metadata": {},
   "source": [
    "#Groups"
   ]
  },
  {
   "cell_type": "code",
   "execution_count": 72,
   "metadata": {},
   "outputs": [
    {
     "name": "stdout",
     "output_type": "stream",
     "text": [
      "Overview\n",
      "Access to public records\n",
      "Student medical records\n",
      "Overview\n",
      "Access to public records\n",
      "Student medical records\n",
      "Overview\n",
      "\n",
      "Access to public records\n",
      "\n",
      "Student medical records\n",
      "\n"
     ]
    }
   ],
   "source": [
    "# Ok, this works, but it's a bit of a pain. To this point we have been talking about a regex as a single\n",
    "# pattern which is matched. But, you can actually match different patterns, called groups, at the same time,\n",
    "# and then refer to the groups you want. To group patterns together you use parentheses, which is actually\n",
    "# pretty natural. Lets rewrite our findall using groups\n",
    "import re\n",
    "\n",
    "pattern_string = \"([\\\\w ]*)(\\\\[edit])\"\n",
    "re.findall(pattern_string,wiki)\n",
    "\n",
    "#To select group we can use re.finditer()\n",
    "for title in re.finditer(pattern_string,wiki):\n",
    "    print(title.group(1))\n",
    "\n",
    "# We can use this to name group by using ?P<name>\n",
    "pattern_string = \"(?P<title>[\\\\w ]*)(?P<edit_link>\\\\[edit])\"\n",
    "for title in re.finditer(pattern_string,wiki):\n",
    "    print(title.groupdict()['title'])\n",
    "\n",
    "#To remove look ahead and look behind,we use ?= operator in unwanted group\n",
    "pattern_string = \"(?P<title>[\\\\w ]*)(?=\\\\[edit])\""
   ]
  },
  {
   "cell_type": "markdown",
   "metadata": {},
   "source": [
    "#Example Wipideia Buddhist Data"
   ]
  },
  {
   "cell_type": "code",
   "execution_count": 259,
   "metadata": {},
   "outputs": [
    {
     "name": "stdout",
     "output_type": "stream",
     "text": [
      "{'university_name': 'Dhammakaya Open University', 'city': 'Azusa', 'state': ' California, part of the Thai Wat Phra Dhammakaya[1]'}\n",
      "{'university_name': 'Dharmakirti College', 'city': 'Tucson', 'state': ' Arizona Now called Awam Tibetan Buddhist Institute (http://awaminstitute.org/)'}\n",
      "{'university_name': 'Dharma Realm Buddhist University', 'city': 'Ukiah', 'state': ' California'}\n",
      "{'university_name': 'Ewam Buddhist Institute', 'city': 'Arlee', 'state': ' Montana'}\n",
      "{'university_name': 'Naropa University', 'city': 'Boulder', 'state': ' Colorado (Accredited by the Higher Learning Commission)'}\n",
      "{'university_name': 'Institute of Buddhist Studies', 'city': 'Berkeley', 'state': ' California'}\n",
      "{'university_name': 'Maitripa College', 'city': 'Portland', 'state': ' Oregon'}\n",
      "{'university_name': 'Soka University of America', 'city': 'Aliso Viejo', 'state': ' California'}\n",
      "{'university_name': 'University of the West', 'city': 'Rosemead', 'state': ' California'}\n",
      "{'university_name': 'Won Institute of Graduate Studies', 'city': 'Glenside', 'state': ' Pennsylvania'}\n"
     ]
    }
   ],
   "source": [
    "#Let's find university name,city and state where buddhist located\n",
    "import re\n",
    "\n",
    "with open('resource/buddhist.txt') as file:\n",
    "    buddhist_data = file.read()\n",
    "# university_name , city , state\n",
    "#We have 10 university in this data let's extrct\n",
    "regex_pattern_for_buddhist_university_location = \"\"\"(?P<university_name>.*)( – located in | is located in )(?P<city>.{3,15})(,)(?P<state>.*)\"\"\"\n",
    "\n",
    "re.findall(regex_pattern_for_buddhist_university_location,buddhist_data)\n",
    "\n",
    "for data in re.finditer(regex_pattern_for_buddhist_university_location,buddhist_data):\n",
    "    print(data.groupdict())"
   ]
  }
 ],
 "metadata": {
  "kernelspec": {
   "display_name": "Python 3",
   "language": "python",
   "name": "python3"
  },
  "language_info": {
   "codemirror_mode": {
    "name": "ipython",
    "version": 3
   },
   "file_extension": ".py",
   "mimetype": "text/x-python",
   "name": "python",
   "nbconvert_exporter": "python",
   "pygments_lexer": "ipython3",
   "version": "3.10.12"
  }
 },
 "nbformat": 4,
 "nbformat_minor": 2
}
