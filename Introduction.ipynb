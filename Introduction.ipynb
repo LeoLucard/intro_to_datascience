{
 "cells": [
  {
   "cell_type": "code",
   "execution_count": 1,
   "metadata": {},
   "outputs": [],
   "source": [
    "# The Python Programming Language: More on Strings"
   ]
  },
  {
   "cell_type": "code",
   "execution_count": 3,
   "metadata": {},
   "outputs": [
    {
     "name": "stdout",
     "output_type": "stream",
     "text": [
      "Chris bought 4 item(s) at a price of 3.24 each for a total of 12.96\n"
     ]
    }
   ],
   "source": [
    "sales_record = {\n",
    "    'price': 3.24,\n",
    "    'num_items': 4,\n",
    "    'person': 'Chris'}\n",
    "store1 = [10,12,16,18]\n",
    "store2 = [4,13,19,177]\n",
    "\n",
    "cheapest = map(min,store1,store2)\n",
    "for item in cheapest:\n",
    "    print(item)\n",
    "\n",
    "sales_statement = '{} bought {} item(s) at a price of {} each for a total of {}'\n",
    "\n",
    "print(sales_statement.format(sales_record['person'],\n",
    "                             sales_record['num_items'],\n",
    "                             sales_record['price'],\n",
    "                             sales_record['num_items'] * sales_record['price']))\n"
   ]
  },
  {
   "cell_type": "code",
   "execution_count": null,
   "metadata": {},
   "outputs": [],
   "source": [
    "# Reading and Writing CSV files"
   ]
  },
  {
   "cell_type": "code",
   "execution_count": 3,
   "metadata": {},
   "outputs": [
    {
     "data": {
      "text/plain": [
       "{'': '1',\n",
       " 'manufacturer': 'audi',\n",
       " 'model': 'a4',\n",
       " 'displ': '1.8',\n",
       " 'year': '1999',\n",
       " 'cyl': '4',\n",
       " 'trans': 'auto(l5)',\n",
       " 'drv': 'f',\n",
       " 'cty': '18',\n",
       " 'hwy': '29',\n",
       " 'fl': 'p',\n",
       " 'class': 'compact'}"
      ]
     },
     "execution_count": 3,
     "metadata": {},
     "output_type": "execute_result"
    }
   ],
   "source": [
    "import csv\n",
    "\n",
    "%precision 2\n",
    "\n",
    "with open('resource/mpg.csv') as csvFile:\n",
    "    mpg = list(csv.DictReader(csvFile))\n",
    "\n",
    "mpg[0]"
   ]
  },
  {
   "cell_type": "code",
   "execution_count": 4,
   "metadata": {},
   "outputs": [
    {
     "data": {
      "text/plain": [
       "16.86"
      ]
     },
     "execution_count": 4,
     "metadata": {},
     "output_type": "execute_result"
    }
   ],
   "source": [
    "average_of_cty = sum(float(c['cty']) for c in mpg) / len(mpg)\n",
    "average_of_cty"
   ]
  },
  {
   "cell_type": "code",
   "execution_count": 5,
   "metadata": {},
   "outputs": [
    {
     "data": {
      "text/plain": [
       "{'4', '5', '6', '8'}"
      ]
     },
     "execution_count": 5,
     "metadata": {},
     "output_type": "execute_result"
    }
   ],
   "source": [
    "type_of_cylinder = set(c['cyl'] for c in mpg)\n",
    "type_of_cylinder"
   ]
  },
  {
   "cell_type": "markdown",
   "metadata": {},
   "source": [
    "Here's a more complex example where we are grouping the cars by number of cylinder, and finding the average cty mpg for each group."
   ]
  },
  {
   "cell_type": "code",
   "execution_count": 10,
   "metadata": {},
   "outputs": [
    {
     "data": {
      "text/plain": [
       "[('4', 21.01), ('5', 20.50), ('6', 16.22), ('8', 12.57)]"
      ]
     },
     "execution_count": 10,
     "metadata": {},
     "output_type": "execute_result"
    }
   ],
   "source": [
    "average_cty_by_cylinder = []\n",
    "\n",
    "for c in type_of_cylinder:\n",
    "    sum_of_cty = 0\n",
    "    count_of_cty = 0\n",
    "    for m in mpg:\n",
    "        if m['cyl'] == c:\n",
    "            sum_of_cty += float(m['cty'])\n",
    "            count_of_cty += 1\n",
    "\n",
    "    average = sum_of_cty / count_of_cty\n",
    "    average_cty_by_cylinder.append((c,average))\n",
    "\n",
    "average_cty_by_cylinder.sort(key=lambda x:x[1],reverse=True)\n",
    "average_cty_by_cylinder"
   ]
  },
  {
   "cell_type": "markdown",
   "metadata": {},
   "source": [
    "# The Python Programming Language: Objects and map()"
   ]
  },
  {
   "cell_type": "code",
   "execution_count": 11,
   "metadata": {},
   "outputs": [
    {
     "data": {
      "text/plain": [
       "'77 street between 28 and 29'"
      ]
     },
     "execution_count": 11,
     "metadata": {},
     "output_type": "execute_result"
    }
   ],
   "source": [
    "class Person:\n",
    "    def __init__(self,name):\n",
    "        self.name = name\n",
    "\n",
    "    def setAddress(self,new_address):\n",
    "        self.address = new_address\n",
    "\n",
    "p1 = Person(\"NgaPyi\")\n",
    "p1.setAddress(\"77 street between 28 and 29\")"
   ]
  },
  {
   "cell_type": "code",
   "execution_count": 18,
   "metadata": {},
   "outputs": [
    {
     "name": "stdout",
     "output_type": "stream",
     "text": [
      "4\n",
      "12\n",
      "16\n",
      "18\n"
     ]
    }
   ],
   "source": [
    "store1 = [10,12,16,18]\n",
    "store2 = [4,13,19,177]\n",
    "\n",
    "cheapest = map(min,store1,store2)\n",
    "for item in cheapest:\n",
    "    print(item)"
   ]
  },
  {
   "cell_type": "markdown",
   "metadata": {},
   "source": [
    "# The Python Programming Language: Lambda and List Comprehensions"
   ]
  },
  {
   "cell_type": "code",
   "execution_count": 24,
   "metadata": {},
   "outputs": [
    {
     "data": {
      "text/plain": [
       "True"
      ]
     },
     "execution_count": 24,
     "metadata": {},
     "output_type": "execute_result"
    }
   ],
   "source": [
    "def function1(a,b):\n",
    "    return a+b\n",
    "\n",
    "function2 = lambda a,b : a+b\n",
    "function1(1,2) == function2(1,2)"
   ]
  },
  {
   "cell_type": "code",
   "execution_count": 22,
   "metadata": {},
   "outputs": [
    {
     "data": {
      "text/plain": [
       "[0, 2, 4, 6]"
      ]
     },
     "execution_count": 22,
     "metadata": {},
     "output_type": "execute_result"
    }
   ],
   "source": [
    "even_number_list1 = []\n",
    "for i in range(0,1000):\n",
    "    if i % 2 == 0:\n",
    "        even_number_list1.append(i)\n",
    "    \n",
    "even_number_list1[:4]"
   ]
  },
  {
   "cell_type": "code",
   "execution_count": 23,
   "metadata": {},
   "outputs": [
    {
     "data": {
      "text/plain": [
       "True"
      ]
     },
     "execution_count": 23,
     "metadata": {},
     "output_type": "execute_result"
    }
   ],
   "source": [
    "even_number_list2 = [i for i in range(0,1000) if i % 2 == 0]\n",
    "even_number_list1 == even_number_list2"
   ]
  }
 ],
 "metadata": {
  "kernelspec": {
   "display_name": "Python 3",
   "language": "python",
   "name": "python3"
  },
  "language_info": {
   "codemirror_mode": {
    "name": "ipython",
    "version": 3
   },
   "file_extension": ".py",
   "mimetype": "text/x-python",
   "name": "python",
   "nbconvert_exporter": "python",
   "pygments_lexer": "ipython3",
   "version": "3.10.12"
  }
 },
 "nbformat": 4,
 "nbformat_minor": 2
}
