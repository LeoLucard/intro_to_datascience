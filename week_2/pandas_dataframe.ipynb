{
 "cells": [
  {
   "cell_type": "markdown",
   "metadata": {},
   "source": [
    "#DataFrame are 2d of object combing series."
   ]
  },
  {
   "cell_type": "code",
   "execution_count": 2,
   "metadata": {},
   "outputs": [
    {
     "name": "stdout",
     "output_type": "stream",
     "text": [
      "                 Name         Class  Score\n",
      "school1  Pyi Hein Tun  Mechatronics     90\n",
      "school2        LayPyi         Civil     85\n",
      "school1         Arcon  Architecture     69\n"
     ]
    }
   ],
   "source": [
    "import pandas as pd\n",
    "\n",
    "student = [\n",
    "    {\n",
    "        \"Name\" : \"Pyi Hein Tun\",\n",
    "        \"Class\" : \"Mechatronics\",\n",
    "        \"Score\" : 90,\n",
    "    },\n",
    "    {\n",
    "        \"Name\" : \"LayPyi\",\n",
    "        \"Class\" : \"Civil\",\n",
    "        \"Score\" : 85,\n",
    "    },\n",
    "    {\n",
    "        \"Name\" : \"Arcon\",\n",
    "        \"Class\" : \"Architecture\",\n",
    "        \"Score\" : 69,\n",
    "    }\n",
    "]\n",
    "\n",
    "df = pd.DataFrame(student,index=[\"school1\",\"school2\",\"school1\"])\n",
    "print(df)"
   ]
  }
 ],
 "metadata": {
  "kernelspec": {
   "display_name": "Python 3",
   "language": "python",
   "name": "python3"
  },
  "language_info": {
   "codemirror_mode": {
    "name": "ipython",
    "version": 3
   },
   "file_extension": ".py",
   "mimetype": "text/x-python",
   "name": "python",
   "nbconvert_exporter": "python",
   "pygments_lexer": "ipython3",
   "version": "3.10.12"
  }
 },
 "nbformat": 4,
 "nbformat_minor": 2
}
