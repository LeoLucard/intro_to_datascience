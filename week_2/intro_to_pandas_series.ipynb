{
 "cells": [
  {
   "cell_type": "markdown",
   "metadata": {},
   "source": [
    "#Create Pandas Series Data"
   ]
  },
  {
   "cell_type": "code",
   "execution_count": 3,
   "metadata": {},
   "outputs": [
    {
     "name": "stdout",
     "output_type": "stream",
     "text": [
      "NgaPyi    Mechatronics\n",
      "Odette             NaN\n",
      "dtype: object\n"
     ]
    }
   ],
   "source": [
    "import pandas as pd\n",
    "\n",
    "list_data = {\"NgaPyi\":\"Mechatronics\",\"Valir\":\"Mage\",\"Gusion\":\"Assisian\"}\n",
    "a = pd.Series(list_data,index=[\"NgaPyi\",\"Odette\"])\n",
    "print(a)"
   ]
  },
  {
   "cell_type": "markdown",
   "metadata": {},
   "source": [
    "#Querying Series"
   ]
  },
  {
   "cell_type": "code",
   "execution_count": 99,
   "metadata": {},
   "outputs": [
    {
     "name": "stdout",
     "output_type": "stream",
     "text": [
      "Physis\n",
      "Chemistry\n"
     ]
    }
   ],
   "source": [
    "student_class = {\"Molly\":\"Physis\",\"David\":\"Chemistry\",\"Luna\":\"Mathematics\"}\n",
    "\n",
    "series_data = pd.Series(student_class)\n",
    "\n",
    "print(series_data.iloc[0])  #Index Location such as 0,1,2\n",
    "print(series_data.loc['David'])"
   ]
  },
  {
   "cell_type": "markdown",
   "metadata": {},
   "source": [
    "In below, we see that vectorization methods are more quick than normal iterating methods."
   ]
  },
  {
   "cell_type": "code",
   "execution_count": 63,
   "metadata": {},
   "outputs": [
    {
     "name": "stdout",
     "output_type": "stream",
     "text": [
      "1.38 ms ± 38.6 µs per loop (mean ± std. dev. of 7 runs, 100 loops each)\n"
     ]
    }
   ],
   "source": [
    "%%timeit -n 100\n",
    "#Testing how long will it take\n",
    "import numpy as np \n",
    "\n",
    "sum = 0\n",
    "for i in np.random.randint(0,1000,10000):\n",
    "    sum+=i\n",
    "sum/10000"
   ]
  },
  {
   "cell_type": "code",
   "execution_count": 65,
   "metadata": {},
   "outputs": [
    {
     "name": "stdout",
     "output_type": "stream",
     "text": [
      "87.7 µs ± 27.2 µs per loop (mean ± std. dev. of 7 runs, 100 loops each)\n"
     ]
    }
   ],
   "source": [
    "%%timeit -n 100\n",
    "import numpy as np\n",
    "\n",
    "sum_int = np.sum(np.random.randint(0,1000,10000))\n",
    "int(sum_int)/int(10000)"
   ]
  },
  {
   "cell_type": "markdown",
   "metadata": {},
   "source": [
    "Next we will look at how to add 2 to array and compare it's speed"
   ]
  },
  {
   "cell_type": "code",
   "execution_count": 2,
   "metadata": {},
   "outputs": [
    {
     "name": "stdout",
     "output_type": "stream",
     "text": [
      "127 µs ± 23.1 µs per loop (mean ± std. dev. of 7 runs, 100 loops each)\n"
     ]
    }
   ],
   "source": [
    "%%timeit -n 100\n",
    "import numpy as np\n",
    "\n",
    "a = np.array(np.random.randint(0,1000,10000))\n",
    "# print(a[0:5])\n",
    "a+=2\n",
    "# print(a[0:5])"
   ]
  },
  {
   "cell_type": "code",
   "execution_count": 1,
   "metadata": {},
   "outputs": [
    {
     "name": "stdout",
     "output_type": "stream",
     "text": [
      "70.1 ms ± 12.1 ms per loop (mean ± std. dev. of 7 runs, 100 loops each)\n"
     ]
    }
   ],
   "source": [
    "%%timeit -n 100\n",
    "import pandas as pd\n",
    "import numpy as np\n",
    "\n",
    "a = pd.Series(np.random.randint(0,1000,10000))\n",
    "for index,value in a.items():\n",
    "    a[index] = value+2"
   ]
  },
  {
   "cell_type": "code",
   "execution_count": 117,
   "metadata": {},
   "outputs": [
    {
     "name": "stdout",
     "output_type": "stream",
     "text": [
      "Kelly    Mathematics\n",
      "Kelly    Mathematics\n",
      "Kelly    Mathematics\n",
      "dtype: object\n"
     ]
    }
   ],
   "source": [
    "data = pd.Series({\n",
    "    \"Kelly\" : \"Chemistry\",\n",
    "    \"Kelly\" : \"Physis\",\n",
    "    \"Kelly\" : \"Mathematics\",\n",
    "},index=[\"Kelly\",\"Kelly\",\"Kelly\"])\n",
    "\n",
    "\n",
    "print(data.loc[\"Kelly\"])"
   ]
  }
 ],
 "metadata": {
  "kernelspec": {
   "display_name": "Python 3",
   "language": "python",
   "name": "python3"
  },
  "language_info": {
   "codemirror_mode": {
    "name": "ipython",
    "version": 3
   },
   "file_extension": ".py",
   "mimetype": "text/x-python",
   "name": "python",
   "nbconvert_exporter": "python",
   "pygments_lexer": "ipython3",
   "version": "3.10.12"
  }
 },
 "nbformat": 4,
 "nbformat_minor": 2
}
